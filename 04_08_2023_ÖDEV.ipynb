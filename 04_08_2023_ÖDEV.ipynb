{
  "nbformat": 4,
  "nbformat_minor": 0,
  "metadata": {
    "colab": {
      "provenance": []
    },
    "kernelspec": {
      "name": "python3",
      "display_name": "Python 3"
    },
    "language_info": {
      "name": "python"
    }
  },
  "cells": [
    {
      "cell_type": "code",
      "execution_count": 1,
      "metadata": {
        "colab": {
          "base_uri": "https://localhost:8080/"
        },
        "id": "5x5tYq_g4CNu",
        "outputId": "98288a02-09e3-4cc4-bb59-70a467a395df"
      },
      "outputs": [
        {
          "output_type": "stream",
          "name": "stdout",
          "text": [
            "51\n"
          ]
        }
      ],
      "source": [
        "print(int(\"5\"+\"1\"))"
      ]
    },
    {
      "cell_type": "code",
      "source": [
        "number_int=123\n",
        "number_flt=1.23\n",
        "number_new = number_int + number_flt\n",
        "print(\"data type of number_int:\", type(number_int))\n",
        "print(\"data type of number_flt:\", type(number_flt))\n",
        "\n",
        "print(\"value of number_new:\", number_new)\n",
        "print(\"datatype of number_new:\", type(number_new))"
      ],
      "metadata": {
        "colab": {
          "base_uri": "https://localhost:8080/"
        },
        "id": "0yOc5WMJ5Fsk",
        "outputId": "66b34d1b-ad02-478c-ed28-6651c65c17ac"
      },
      "execution_count": 2,
      "outputs": [
        {
          "output_type": "stream",
          "name": "stdout",
          "text": [
            "data type of number_int: <class 'int'>\n",
            "data type of number_flt: <class 'float'>\n",
            "value of number_new: 124.23\n",
            "datatype of number_new: <class 'float'>\n"
          ]
        }
      ]
    },
    {
      "cell_type": "code",
      "source": [
        "number_int=123\n",
        "number_str=\"456\"\n",
        "\n",
        "print(\"Data type of number_int:\", type(number_int))\n",
        "print(\"Data type of number_str:\", type(number_str))\n",
        "\n",
        "print(number_int+number_str)"
      ],
      "metadata": {
        "colab": {
          "base_uri": "https://localhost:8080/",
          "height": 245
        },
        "id": "MpDE3y4R7izC",
        "outputId": "c4cbfada-8952-49c1-b9e1-505deef54123"
      },
      "execution_count": 5,
      "outputs": [
        {
          "output_type": "stream",
          "name": "stdout",
          "text": [
            "Data type of number_int: <class 'int'>\n",
            "Data type of number_str: <class 'str'>\n"
          ]
        },
        {
          "output_type": "error",
          "ename": "TypeError",
          "evalue": "ignored",
          "traceback": [
            "\u001b[0;31m---------------------------------------------------------------------------\u001b[0m",
            "\u001b[0;31mTypeError\u001b[0m                                 Traceback (most recent call last)",
            "\u001b[0;32m<ipython-input-5-4cabac37e741>\u001b[0m in \u001b[0;36m<cell line: 7>\u001b[0;34m()\u001b[0m\n\u001b[1;32m      5\u001b[0m \u001b[0mprint\u001b[0m\u001b[0;34m(\u001b[0m\u001b[0;34m\"Data type of number_str:\"\u001b[0m\u001b[0;34m,\u001b[0m \u001b[0mtype\u001b[0m\u001b[0;34m(\u001b[0m\u001b[0mnumber_str\u001b[0m\u001b[0;34m)\u001b[0m\u001b[0;34m)\u001b[0m\u001b[0;34m\u001b[0m\u001b[0;34m\u001b[0m\u001b[0m\n\u001b[1;32m      6\u001b[0m \u001b[0;34m\u001b[0m\u001b[0m\n\u001b[0;32m----> 7\u001b[0;31m \u001b[0mprint\u001b[0m\u001b[0;34m(\u001b[0m\u001b[0mnumber_int\u001b[0m\u001b[0;34m+\u001b[0m\u001b[0mnumber_str\u001b[0m\u001b[0;34m)\u001b[0m\u001b[0;34m\u001b[0m\u001b[0;34m\u001b[0m\u001b[0m\n\u001b[0m",
            "\u001b[0;31mTypeError\u001b[0m: unsupported operand type(s) for +: 'int' and 'str'"
          ]
        }
      ]
    },
    {
      "cell_type": "code",
      "source": [
        "number_int=123\n",
        "number_str=\"456\"\n",
        "\n",
        "print(\"Data type of number_int:\", type(number_int))\n",
        "print(\"Data typ of number_str:\", type(number_str))\n",
        "\n",
        "number_str=int(number_str)\n",
        "print(\"Data type of number_str after Type Casting:\", type(number_str))\n",
        "\n",
        "number_sum = number_int + number_str\n",
        "\n",
        "print(\"Sum of number_int and number_str:\", number_sum)\n",
        "print(\"Data type of the sum:\", type(number_sum))\n",
        "\n",
        "\n",
        "\n"
      ],
      "metadata": {
        "colab": {
          "base_uri": "https://localhost:8080/"
        },
        "id": "0w5omqb48mXK",
        "outputId": "c03a1c69-b9e7-427b-fde2-313b9492fff3"
      },
      "execution_count": 6,
      "outputs": [
        {
          "output_type": "stream",
          "name": "stdout",
          "text": [
            "Data type of number_int: <class 'int'>\n",
            "Data typ of number_str: <class 'str'>\n",
            "Data type of number_str after Type Casting: <class 'int'>\n",
            "Sum of number_int and number_str: 579\n",
            "Data type of the sum: <class 'int'>\n"
          ]
        }
      ]
    },
    {
      "cell_type": "code",
      "source": [],
      "metadata": {
        "id": "eSDAHi0N_HWp"
      },
      "execution_count": null,
      "outputs": []
    }
  ]
}